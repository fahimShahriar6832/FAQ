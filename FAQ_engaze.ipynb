{
  "nbformat": 4,
  "nbformat_minor": 0,
  "metadata": {
    "colab": {
      "provenance": [],
      "toc_visible": true
    },
    "kernelspec": {
      "name": "python3",
      "display_name": "Python 3"
    },
    "language_info": {
      "name": "python"
    }
  },
  "cells": [
    {
      "cell_type": "markdown",
      "source": [
        "# Import libary"
      ],
      "metadata": {
        "id": "t0zlsrVU9MSO"
      }
    },
    {
      "cell_type": "code",
      "execution_count": 1,
      "metadata": {
        "id": "0KI3uzrYBQD1"
      },
      "outputs": [],
      "source": [
        "import pandas as pd\n",
        "import numpy as np\n",
        "import re\n",
        "import gensim \n",
        "from gensim.parsing.preprocessing import remove_stopwords"
      ]
    },
    {
      "cell_type": "markdown",
      "source": [
        "# Download the Word2Vec model"
      ],
      "metadata": {
        "id": "P5bt5JT1-gem"
      }
    },
    {
      "cell_type": "code",
      "source": [
        "from gensim.models import Word2Vec \n",
        "import gensim.downloader as api\n",
        "    \n",
        "w2v_model=None;\n",
        "try:\n",
        "    w2v_model = gensim.models.KeyedVectors.load(\"./w2vecmodel.mod\")\n",
        "    print(\"Loaded w2v model\")\n",
        "except:            \n",
        "    w2v_model = api.load('word2vec-google-news-300')\n",
        "    w2v_model.save(\"./w2vecmodel.mod\")\n",
        "\n",
        "w2vec_embedding_size=len(w2v_model['computer'])"
      ],
      "metadata": {
        "colab": {
          "base_uri": "https://localhost:8080/"
        },
        "id": "6XVxrp8J4Q2p",
        "outputId": "65d19de4-68f0-47cb-9b18-f1349ec4b2d9"
      },
      "execution_count": 8,
      "outputs": [
        {
          "output_type": "stream",
          "name": "stdout",
          "text": [
            "[==================================================] 100.0% 1662.8/1662.8MB downloaded\n"
          ]
        }
      ]
    },
    {
      "cell_type": "markdown",
      "source": [
        "# Call the dataset"
      ],
      "metadata": {
        "id": "hTmBr0I29TIn"
      }
    },
    {
      "cell_type": "code",
      "source": [
        "df = pd.read_csv(\"/content/drive/MyDrive/FAQ-Dataset/FAQs - FAQs.csv\")\n",
        "df_test = pd.read_csv(\"/content/drive/MyDrive/FAQ-Dataset/FAQs_test - FAQs_test.csv\")\n",
        "\n",
        "print(\"Number of data points in Train dataset:\",df.shape[0])\n",
        "print(\"Number of data points in Test dataset:\",df_test.shape[0])"
      ],
      "metadata": {
        "id": "KmzU-0s782q0"
      },
      "execution_count": null,
      "outputs": []
    },
    {
      "cell_type": "markdown",
      "source": [
        "Print the **train data**"
      ],
      "metadata": {
        "id": "OowCVJYc9nJ4"
      }
    },
    {
      "cell_type": "code",
      "source": [
        "df.head()"
      ],
      "metadata": {
        "colab": {
          "base_uri": "https://localhost:8080/",
          "height": 206
        },
        "id": "Wue3e9_KDcLT",
        "outputId": "e2c82407-fc23-4d24-e543-54a7c40c7070"
      },
      "execution_count": 138,
      "outputs": [
        {
          "output_type": "execute_result",
          "data": {
            "text/plain": [
              "                                Question  \\\n",
              "0         When was Albert Einstein born?   \n",
              "1                     Where was he born?   \n",
              "2                       When did he die?   \n",
              "3                  Who were his parents?   \n",
              "4  Did he have any sisters and brothers?   \n",
              "\n",
              "                                              Answer  \n",
              "0         Albert Einstein was born on 14 March 1879.  \n",
              "1                       He was born in Ulm, Germany.  \n",
              "2  He died 18 April 1955 in Princeton, New Jersey...  \n",
              "3  His father was Hermann Einstein and his mother...  \n",
              "4                      He had one sister named Maja.  "
            ],
            "text/html": [
              "\n",
              "  <div id=\"df-c60d4f09-13df-4a33-8ef9-38c890ed9316\">\n",
              "    <div class=\"colab-df-container\">\n",
              "      <div>\n",
              "<style scoped>\n",
              "    .dataframe tbody tr th:only-of-type {\n",
              "        vertical-align: middle;\n",
              "    }\n",
              "\n",
              "    .dataframe tbody tr th {\n",
              "        vertical-align: top;\n",
              "    }\n",
              "\n",
              "    .dataframe thead th {\n",
              "        text-align: right;\n",
              "    }\n",
              "</style>\n",
              "<table border=\"1\" class=\"dataframe\">\n",
              "  <thead>\n",
              "    <tr style=\"text-align: right;\">\n",
              "      <th></th>\n",
              "      <th>Question</th>\n",
              "      <th>Answer</th>\n",
              "    </tr>\n",
              "  </thead>\n",
              "  <tbody>\n",
              "    <tr>\n",
              "      <th>0</th>\n",
              "      <td>When was Albert Einstein born?</td>\n",
              "      <td>Albert Einstein was born on 14 March 1879.</td>\n",
              "    </tr>\n",
              "    <tr>\n",
              "      <th>1</th>\n",
              "      <td>Where was he born?</td>\n",
              "      <td>He was born in Ulm, Germany.</td>\n",
              "    </tr>\n",
              "    <tr>\n",
              "      <th>2</th>\n",
              "      <td>When did he die?</td>\n",
              "      <td>He died 18 April 1955 in Princeton, New Jersey...</td>\n",
              "    </tr>\n",
              "    <tr>\n",
              "      <th>3</th>\n",
              "      <td>Who were his parents?</td>\n",
              "      <td>His father was Hermann Einstein and his mother...</td>\n",
              "    </tr>\n",
              "    <tr>\n",
              "      <th>4</th>\n",
              "      <td>Did he have any sisters and brothers?</td>\n",
              "      <td>He had one sister named Maja.</td>\n",
              "    </tr>\n",
              "  </tbody>\n",
              "</table>\n",
              "</div>\n",
              "      <button class=\"colab-df-convert\" onclick=\"convertToInteractive('df-c60d4f09-13df-4a33-8ef9-38c890ed9316')\"\n",
              "              title=\"Convert this dataframe to an interactive table.\"\n",
              "              style=\"display:none;\">\n",
              "        \n",
              "  <svg xmlns=\"http://www.w3.org/2000/svg\" height=\"24px\"viewBox=\"0 0 24 24\"\n",
              "       width=\"24px\">\n",
              "    <path d=\"M0 0h24v24H0V0z\" fill=\"none\"/>\n",
              "    <path d=\"M18.56 5.44l.94 2.06.94-2.06 2.06-.94-2.06-.94-.94-2.06-.94 2.06-2.06.94zm-11 1L8.5 8.5l.94-2.06 2.06-.94-2.06-.94L8.5 2.5l-.94 2.06-2.06.94zm10 10l.94 2.06.94-2.06 2.06-.94-2.06-.94-.94-2.06-.94 2.06-2.06.94z\"/><path d=\"M17.41 7.96l-1.37-1.37c-.4-.4-.92-.59-1.43-.59-.52 0-1.04.2-1.43.59L10.3 9.45l-7.72 7.72c-.78.78-.78 2.05 0 2.83L4 21.41c.39.39.9.59 1.41.59.51 0 1.02-.2 1.41-.59l7.78-7.78 2.81-2.81c.8-.78.8-2.07 0-2.86zM5.41 20L4 18.59l7.72-7.72 1.47 1.35L5.41 20z\"/>\n",
              "  </svg>\n",
              "      </button>\n",
              "      \n",
              "  <style>\n",
              "    .colab-df-container {\n",
              "      display:flex;\n",
              "      flex-wrap:wrap;\n",
              "      gap: 12px;\n",
              "    }\n",
              "\n",
              "    .colab-df-convert {\n",
              "      background-color: #E8F0FE;\n",
              "      border: none;\n",
              "      border-radius: 50%;\n",
              "      cursor: pointer;\n",
              "      display: none;\n",
              "      fill: #1967D2;\n",
              "      height: 32px;\n",
              "      padding: 0 0 0 0;\n",
              "      width: 32px;\n",
              "    }\n",
              "\n",
              "    .colab-df-convert:hover {\n",
              "      background-color: #E2EBFA;\n",
              "      box-shadow: 0px 1px 2px rgba(60, 64, 67, 0.3), 0px 1px 3px 1px rgba(60, 64, 67, 0.15);\n",
              "      fill: #174EA6;\n",
              "    }\n",
              "\n",
              "    [theme=dark] .colab-df-convert {\n",
              "      background-color: #3B4455;\n",
              "      fill: #D2E3FC;\n",
              "    }\n",
              "\n",
              "    [theme=dark] .colab-df-convert:hover {\n",
              "      background-color: #434B5C;\n",
              "      box-shadow: 0px 1px 3px 1px rgba(0, 0, 0, 0.15);\n",
              "      filter: drop-shadow(0px 1px 2px rgba(0, 0, 0, 0.3));\n",
              "      fill: #FFFFFF;\n",
              "    }\n",
              "  </style>\n",
              "\n",
              "      <script>\n",
              "        const buttonEl =\n",
              "          document.querySelector('#df-c60d4f09-13df-4a33-8ef9-38c890ed9316 button.colab-df-convert');\n",
              "        buttonEl.style.display =\n",
              "          google.colab.kernel.accessAllowed ? 'block' : 'none';\n",
              "\n",
              "        async function convertToInteractive(key) {\n",
              "          const element = document.querySelector('#df-c60d4f09-13df-4a33-8ef9-38c890ed9316');\n",
              "          const dataTable =\n",
              "            await google.colab.kernel.invokeFunction('convertToInteractive',\n",
              "                                                     [key], {});\n",
              "          if (!dataTable) return;\n",
              "\n",
              "          const docLinkHtml = 'Like what you see? Visit the ' +\n",
              "            '<a target=\"_blank\" href=https://colab.research.google.com/notebooks/data_table.ipynb>data table notebook</a>'\n",
              "            + ' to learn more about interactive tables.';\n",
              "          element.innerHTML = '';\n",
              "          dataTable['output_type'] = 'display_data';\n",
              "          await google.colab.output.renderOutput(dataTable, element);\n",
              "          const docLink = document.createElement('div');\n",
              "          docLink.innerHTML = docLinkHtml;\n",
              "          element.appendChild(docLink);\n",
              "        }\n",
              "      </script>\n",
              "    </div>\n",
              "  </div>\n",
              "  "
            ]
          },
          "metadata": {},
          "execution_count": 138
        }
      ]
    },
    {
      "cell_type": "markdown",
      "source": [
        "Print the **test data**"
      ],
      "metadata": {
        "id": "1e2r1gm2Alv2"
      }
    },
    {
      "cell_type": "code",
      "source": [
        "df_test.head()"
      ],
      "metadata": {
        "colab": {
          "base_uri": "https://localhost:8080/",
          "height": 206
        },
        "id": "BCpyoH5qAr2F",
        "outputId": "13256f9b-ecb6-4d1c-b9ee-28a68ff3326a"
      },
      "execution_count": 134,
      "outputs": [
        {
          "output_type": "execute_result",
          "data": {
            "text/plain": [
              "                             Question\n",
              "0      What is the date of his death?\n",
              "1         Did Einstein have siblings?\n",
              "2                   Who was his wife?\n",
              "3  What was Einstein's father's name?\n",
              "4  At what institutions did he study?"
            ],
            "text/html": [
              "\n",
              "  <div id=\"df-d0c6c341-499f-42ca-a154-b2264ab7c3fb\">\n",
              "    <div class=\"colab-df-container\">\n",
              "      <div>\n",
              "<style scoped>\n",
              "    .dataframe tbody tr th:only-of-type {\n",
              "        vertical-align: middle;\n",
              "    }\n",
              "\n",
              "    .dataframe tbody tr th {\n",
              "        vertical-align: top;\n",
              "    }\n",
              "\n",
              "    .dataframe thead th {\n",
              "        text-align: right;\n",
              "    }\n",
              "</style>\n",
              "<table border=\"1\" class=\"dataframe\">\n",
              "  <thead>\n",
              "    <tr style=\"text-align: right;\">\n",
              "      <th></th>\n",
              "      <th>Question</th>\n",
              "    </tr>\n",
              "  </thead>\n",
              "  <tbody>\n",
              "    <tr>\n",
              "      <th>0</th>\n",
              "      <td>What is the date of his death?</td>\n",
              "    </tr>\n",
              "    <tr>\n",
              "      <th>1</th>\n",
              "      <td>Did Einstein have siblings?</td>\n",
              "    </tr>\n",
              "    <tr>\n",
              "      <th>2</th>\n",
              "      <td>Who was his wife?</td>\n",
              "    </tr>\n",
              "    <tr>\n",
              "      <th>3</th>\n",
              "      <td>What was Einstein's father's name?</td>\n",
              "    </tr>\n",
              "    <tr>\n",
              "      <th>4</th>\n",
              "      <td>At what institutions did he study?</td>\n",
              "    </tr>\n",
              "  </tbody>\n",
              "</table>\n",
              "</div>\n",
              "      <button class=\"colab-df-convert\" onclick=\"convertToInteractive('df-d0c6c341-499f-42ca-a154-b2264ab7c3fb')\"\n",
              "              title=\"Convert this dataframe to an interactive table.\"\n",
              "              style=\"display:none;\">\n",
              "        \n",
              "  <svg xmlns=\"http://www.w3.org/2000/svg\" height=\"24px\"viewBox=\"0 0 24 24\"\n",
              "       width=\"24px\">\n",
              "    <path d=\"M0 0h24v24H0V0z\" fill=\"none\"/>\n",
              "    <path d=\"M18.56 5.44l.94 2.06.94-2.06 2.06-.94-2.06-.94-.94-2.06-.94 2.06-2.06.94zm-11 1L8.5 8.5l.94-2.06 2.06-.94-2.06-.94L8.5 2.5l-.94 2.06-2.06.94zm10 10l.94 2.06.94-2.06 2.06-.94-2.06-.94-.94-2.06-.94 2.06-2.06.94z\"/><path d=\"M17.41 7.96l-1.37-1.37c-.4-.4-.92-.59-1.43-.59-.52 0-1.04.2-1.43.59L10.3 9.45l-7.72 7.72c-.78.78-.78 2.05 0 2.83L4 21.41c.39.39.9.59 1.41.59.51 0 1.02-.2 1.41-.59l7.78-7.78 2.81-2.81c.8-.78.8-2.07 0-2.86zM5.41 20L4 18.59l7.72-7.72 1.47 1.35L5.41 20z\"/>\n",
              "  </svg>\n",
              "      </button>\n",
              "      \n",
              "  <style>\n",
              "    .colab-df-container {\n",
              "      display:flex;\n",
              "      flex-wrap:wrap;\n",
              "      gap: 12px;\n",
              "    }\n",
              "\n",
              "    .colab-df-convert {\n",
              "      background-color: #E8F0FE;\n",
              "      border: none;\n",
              "      border-radius: 50%;\n",
              "      cursor: pointer;\n",
              "      display: none;\n",
              "      fill: #1967D2;\n",
              "      height: 32px;\n",
              "      padding: 0 0 0 0;\n",
              "      width: 32px;\n",
              "    }\n",
              "\n",
              "    .colab-df-convert:hover {\n",
              "      background-color: #E2EBFA;\n",
              "      box-shadow: 0px 1px 2px rgba(60, 64, 67, 0.3), 0px 1px 3px 1px rgba(60, 64, 67, 0.15);\n",
              "      fill: #174EA6;\n",
              "    }\n",
              "\n",
              "    [theme=dark] .colab-df-convert {\n",
              "      background-color: #3B4455;\n",
              "      fill: #D2E3FC;\n",
              "    }\n",
              "\n",
              "    [theme=dark] .colab-df-convert:hover {\n",
              "      background-color: #434B5C;\n",
              "      box-shadow: 0px 1px 3px 1px rgba(0, 0, 0, 0.15);\n",
              "      filter: drop-shadow(0px 1px 2px rgba(0, 0, 0, 0.3));\n",
              "      fill: #FFFFFF;\n",
              "    }\n",
              "  </style>\n",
              "\n",
              "      <script>\n",
              "        const buttonEl =\n",
              "          document.querySelector('#df-d0c6c341-499f-42ca-a154-b2264ab7c3fb button.colab-df-convert');\n",
              "        buttonEl.style.display =\n",
              "          google.colab.kernel.accessAllowed ? 'block' : 'none';\n",
              "\n",
              "        async function convertToInteractive(key) {\n",
              "          const element = document.querySelector('#df-d0c6c341-499f-42ca-a154-b2264ab7c3fb');\n",
              "          const dataTable =\n",
              "            await google.colab.kernel.invokeFunction('convertToInteractive',\n",
              "                                                     [key], {});\n",
              "          if (!dataTable) return;\n",
              "\n",
              "          const docLinkHtml = 'Like what you see? Visit the ' +\n",
              "            '<a target=\"_blank\" href=https://colab.research.google.com/notebooks/data_table.ipynb>data table notebook</a>'\n",
              "            + ' to learn more about interactive tables.';\n",
              "          element.innerHTML = '';\n",
              "          dataTable['output_type'] = 'display_data';\n",
              "          await google.colab.output.renderOutput(dataTable, element);\n",
              "          const docLink = document.createElement('div');\n",
              "          docLink.innerHTML = docLinkHtml;\n",
              "          element.appendChild(docLink);\n",
              "        }\n",
              "      </script>\n",
              "    </div>\n",
              "  </div>\n",
              "  "
            ]
          },
          "metadata": {},
          "execution_count": 134
        }
      ]
    },
    {
      "cell_type": "markdown",
      "source": [
        "# Datset Preprocessing\n"
      ],
      "metadata": {
        "id": "KaoE-9sk9z5P"
      }
    },
    {
      "cell_type": "code",
      "source": [
        "def clean_sentence(sentence, stopwords=False):\n",
        "    \n",
        "    sentence = sentence.lower().strip()\n",
        "    sentence = re.sub(r'[^a-z0-9\\s]', '', sentence)\n",
        "\n",
        "    \n",
        "    if stopwords:\n",
        "         sentence = remove_stopwords(sentence)\n",
        "    \n",
        "    \n",
        "    return sentence\n",
        "                    \n",
        "def get_cleaned_sentences(tf,stopwords=False):    \n",
        "    sents=tf[[\"Question\"]];\n",
        "    cleaned_sentences=[]\n",
        "\n",
        "    for index,row in tf.iterrows():\n",
        "        #print(index,row)\n",
        "        cleaned=clean_sentence(row[\"Question\"],stopwords);\n",
        "        cleaned_sentences.append(cleaned);\n",
        "    return cleaned_sentences;\n",
        "\n"
      ],
      "metadata": {
        "id": "keYdjUrO4Q0V"
      },
      "execution_count": 147,
      "outputs": []
    },
    {
      "cell_type": "markdown",
      "source": [
        "Train data "
      ],
      "metadata": {
        "id": "ALM-6UbpBHrR"
      }
    },
    {
      "cell_type": "code",
      "source": [
        "Train_cleaned_sentences = get_cleaned_sentences(df,stopwords=True)\n",
        "print(Train_cleaned_sentences);"
      ],
      "metadata": {
        "colab": {
          "base_uri": "https://localhost:8080/"
        },
        "id": "ZTLwNDrp4dLf",
        "outputId": "9e4eb225-4f25-4060-97a8-e0c896cb4b03"
      },
      "execution_count": 148,
      "outputs": [
        {
          "output_type": "stream",
          "name": "stdout",
          "text": [
            "['albert einstein born', 'born', 'die', 'parents', 'sisters brothers', 'marry children', 'receive education', 'albert einstein awarded nobel prize physics', 'albert einstein attend nobel prize award ceremony', 'receive nobel prize']\n"
          ]
        }
      ]
    },
    {
      "cell_type": "markdown",
      "source": [
        "Test data"
      ],
      "metadata": {
        "id": "_zt9ehZcBMyA"
      }
    },
    {
      "cell_type": "code",
      "source": [
        "Test_cleaned_sentences = get_cleaned_sentences(df_test,stopwords=True)\n",
        "print(Test_cleaned_sentences);"
      ],
      "metadata": {
        "colab": {
          "base_uri": "https://localhost:8080/"
        },
        "id": "aHqCmy_OBOqO",
        "outputId": "2c2759c3-0881-4844-8afa-3916ddb545f4"
      },
      "execution_count": 149,
      "outputs": [
        {
          "output_type": "stream",
          "name": "stdout",
          "text": [
            "['date death', 'einstein siblings', 'wife', 'einsteins fathers', 'institutions study']\n"
          ]
        }
      ]
    },
    {
      "cell_type": "markdown",
      "source": [
        "# Define function for word Embedding"
      ],
      "metadata": {
        "id": "N3kaiVJI_KC5"
      }
    },
    {
      "cell_type": "code",
      "source": [
        "def getWordVec(word,model):\n",
        "        samp=model['computer'];\n",
        "        vec=[0]*len(samp);\n",
        "        try:\n",
        "                vec=model[word];\n",
        "        except:\n",
        "                vec=[0]*len(samp);\n",
        "        return (vec)\n",
        "\n",
        "\n",
        "def getPhraseEmbedding(phrase,embeddingmodel):\n",
        "                       \n",
        "        samp=getWordVec('computer', embeddingmodel);\n",
        "        vec=np.array([0]*len(samp));\n",
        "        den=0;\n",
        "        for word in phrase.split():\n",
        "            den=den+1;\n",
        "            vec=vec+np.array(getWordVec(word,embeddingmodel));\n",
        "        return vec.reshape(1, -1)"
      ],
      "metadata": {
        "id": "snUco4oh7y4e"
      },
      "execution_count": 150,
      "outputs": []
    },
    {
      "cell_type": "markdown",
      "source": [
        "Word Embedding of **train data**"
      ],
      "metadata": {
        "id": "9Qprj8Yc_iOV"
      }
    },
    {
      "cell_type": "code",
      "source": [
        "#With w2Vec for original question dataset\n",
        "import numpy\n",
        "sent_embeddings=[];\n",
        "for sent in Train_cleaned_sentences:\n",
        "    sent_embeddings.append(getPhraseEmbedding(sent,w2v_model));"
      ],
      "metadata": {
        "id": "aGwuQ5bG_WyH"
      },
      "execution_count": 151,
      "outputs": []
    },
    {
      "cell_type": "markdown",
      "source": [
        "Word Embedding of **test data**"
      ],
      "metadata": {
        "id": "Wbx9YiGt_vUG"
      }
    },
    {
      "cell_type": "code",
      "source": [
        "#With w2Vec for test question dataset\n",
        "import numpy\n",
        "sent_embeddings_test=[];\n",
        "for sent_test in Test_cleaned_sentences:\n",
        "    sent_embeddings_test.append(getPhraseEmbedding(sent_test,w2v_model));"
      ],
      "metadata": {
        "id": "wim6eMXI_0yt"
      },
      "execution_count": 152,
      "outputs": []
    },
    {
      "cell_type": "markdown",
      "source": [
        "# cosine_similarity of questions"
      ],
      "metadata": {
        "id": "cI5OJYAS-qVT"
      }
    },
    {
      "cell_type": "code",
      "source": [
        "import sklearn\n",
        "from sklearn.metrics.pairwise import cosine_similarity;#sent_embeddings_test,sent_embeddings,df,df_test,Test_cleaned_sentences\n",
        "\n",
        "def retrieveAndPrintFAQAnswer(test_embed, train_embed, train_df, test_df, Test_cleaned_sentences):\n",
        "  for index_test,faq_embedding_test in enumerate(test_embed):\n",
        "    max_sim = -1;\n",
        "    index_sim = -1;\n",
        "    for index,faq_embedding in enumerate(train_embed):\n",
        "        \n",
        "      sim = cosine_similarity(faq_embedding,faq_embedding_test)[0][0];\n",
        "      if sim > max_sim:\n",
        "        max_sim = sim;\n",
        "        index_sim = index;\n",
        "\n",
        "    test_df_new =  test_df\n",
        "    print(\"Retrieved: \",test_df_new.iloc[index_test,0]) \n",
        "    print(\"\\n\")\n",
        "    test_df_new. iloc[index_test,0] = train_df.iloc[index_sim,1]\n",
        "    print(\"Answer:\",train_df.iloc[index_sim,1])        \n",
        "\n",
        "retrieveAndPrintFAQAnswer(sent_embeddings_test, sent_embeddings, df, df_test, Test_cleaned_sentences)"
      ],
      "metadata": {
        "colab": {
          "base_uri": "https://localhost:8080/"
        },
        "id": "XmxX4h-RPFhg",
        "outputId": "ff891353-eef2-4fae-b718-2519daef3dbc"
      },
      "execution_count": 153,
      "outputs": [
        {
          "output_type": "stream",
          "name": "stdout",
          "text": [
            "Retrieved:  What is the date of his death?\n",
            "Answer: He died 18 April 1955 in Princeton, New Jersey, USA.\n",
            "Retrieved:  Did Einstein have siblings?\n",
            "Answer: He had one sister named Maja.\n",
            "Retrieved:  Who was his wife?\n",
            "Answer: He was married to Mileva Marić between 1903 and 1919. They had three children, Lieserl (born 1902), Hans Albert (born 1904) and Eduard (born 1910). He married Elsa Löwenthal in 1919 and they lived together until her death in 1936.\n",
            "Retrieved:  What was Einstein's father's name?\n",
            "Answer: His father was Hermann Einstein and his mother was Pauline Einstein (born Koch).\n",
            "Retrieved:  At what institutions did he study?\n",
            "Answer: He received his main education at the following schools: Catholic elementary school in Munich, Germany (1885-1888)Luitpold Gymnasium in Munich, Germany (1888-1894) Cantonal school in Aarau, Switzerland (1895-1896) Swiss Federal Institute of Technology in Zurich, Switzerland (1896-1900) Ph.D. from Zurich University, Switzerland (1905)\n"
          ]
        }
      ]
    },
    {
      "cell_type": "markdown",
      "source": [
        "# Full Code"
      ],
      "metadata": {
        "id": "cqXsIf7_-PFT"
      }
    },
    {
      "cell_type": "code",
      "source": [
        "#Load dataset\n",
        "df = pd.read_csv(\"/content/drive/MyDrive/FAQ-Dataset/FAQs - FAQs.csv\")\n",
        "df_test = pd.read_csv(\"/content/drive/MyDrive/FAQ-Dataset/FAQs_test - FAQs_test.csv\")\n",
        "\n",
        "#Data preprocessing\n",
        "def clean_sentence(sentence, stopwords=False):\n",
        "    \n",
        "    sentence = sentence.lower().strip()\n",
        "    sentence = re.sub(r'[^a-z0-9\\s]', '', sentence)\n",
        "\n",
        "    if stopwords:\n",
        "         sentence = remove_stopwords(sentence)\n",
        "    \n",
        "    return sentence\n",
        "                    \n",
        "def get_cleaned_sentences(tf,stopwords=False):    \n",
        "    sents=tf[[\"Question\"]];\n",
        "    cleaned_sentences=[]\n",
        "\n",
        "    for index,row in tf.iterrows():\n",
        "        #print(index,row)\n",
        "        cleaned=clean_sentence(row[\"Question\"],stopwords);\n",
        "        cleaned_sentences.append(cleaned);\n",
        "    return cleaned_sentences;\n",
        "\n",
        "\n",
        "\n",
        "Train_cleaned_sentences = get_cleaned_sentences(df,stopwords=True)\n",
        "Test_cleaned_sentences = get_cleaned_sentences(df_test,stopwords=True)\n",
        "\n",
        "\n",
        "#Stop word\n",
        "def getWordVec(word,model):\n",
        "        samp=model['computer'];\n",
        "        vec=[0]*len(samp);\n",
        "        try:\n",
        "                vec=model[word];\n",
        "        except:\n",
        "                vec=[0]*len(samp);\n",
        "        return (vec)\n",
        "\n",
        "\n",
        "def getPhraseEmbedding(phrase,embeddingmodel):\n",
        "                       \n",
        "        samp=getWordVec('computer', embeddingmodel);\n",
        "        vec=np.array([0]*len(samp));\n",
        "        den=0;\n",
        "        for word in phrase.split():\n",
        "            den=den+1;\n",
        "            vec=vec+np.array(getWordVec(word,embeddingmodel));\n",
        "        return vec.reshape(1, -1)\n",
        "\n",
        "\n",
        "#Embedding of train data using word2vec\n",
        "import numpy\n",
        "sent_embeddings=[];\n",
        "for sent in Train_cleaned_sentences:\n",
        "    sent_embeddings.append(getPhraseEmbedding(sent,w2v_model)); \n",
        "\n",
        "\n",
        "#Embedding of test data using word2vec\n",
        "import numpy\n",
        "sent_embeddings_test=[];\n",
        "for sent_test in Test_cleaned_sentences:\n",
        "    sent_embeddings_test.append(getPhraseEmbedding(sent_test,w2v_model));     \n",
        "\n",
        "#Cosine similarity\n",
        "import sklearn\n",
        "from sklearn.metrics.pairwise import cosine_similarity;\n",
        "\n",
        "def retrieveAndPrintFAQAnswer(test_embed, train_embed, train_df, test_df, Test_cleaned_sentences):\n",
        "  for index_test,faq_embedding_test in enumerate(test_embed):\n",
        "    max_sim = -1;\n",
        "    index_sim = -1;\n",
        "    for index,faq_embedding in enumerate(train_embed):\n",
        "        \n",
        "      sim = cosine_similarity(faq_embedding,faq_embedding_test)[0][0];\n",
        "      if sim > max_sim:\n",
        "        max_sim = sim;\n",
        "        index_sim = index;\n",
        "\n",
        "    test_df_new =  test_df\n",
        "    print(\"Testset Question : \",test_df_new.iloc[index_test,0]) \n",
        "   \n",
        "    test_df_new. iloc[index_test,0] = train_df.iloc[index_sim,1]\n",
        "    print(\"Answer:\",train_df.iloc[index_sim,1])        \n",
        "    print(\"\\n\")\n",
        "\n",
        "#Call the function\n",
        "retrieveAndPrintFAQAnswer(sent_embeddings_test, sent_embeddings, df, df_test, Test_cleaned_sentences)"
      ],
      "metadata": {
        "colab": {
          "base_uri": "https://localhost:8080/"
        },
        "id": "EjQGVB8pBra_",
        "outputId": "45847789-80a6-4472-f906-7059699b5114"
      },
      "execution_count": 159,
      "outputs": [
        {
          "output_type": "stream",
          "name": "stdout",
          "text": [
            "Testset Question :  What is the date of his death?\n",
            "Answer: He died 18 April 1955 in Princeton, New Jersey, USA.\n",
            "\n",
            "\n",
            "Testset Question :  Did Einstein have siblings?\n",
            "Answer: He had one sister named Maja.\n",
            "\n",
            "\n",
            "Testset Question :  Who was his wife?\n",
            "Answer: He was married to Mileva Marić between 1903 and 1919. They had three children, Lieserl (born 1902), Hans Albert (born 1904) and Eduard (born 1910). He married Elsa Löwenthal in 1919 and they lived together until her death in 1936.\n",
            "\n",
            "\n",
            "Testset Question :  What was Einstein's father's name?\n",
            "Answer: His father was Hermann Einstein and his mother was Pauline Einstein (born Koch).\n",
            "\n",
            "\n",
            "Testset Question :  At what institutions did he study?\n",
            "Answer: He received his main education at the following schools: Catholic elementary school in Munich, Germany (1885-1888)Luitpold Gymnasium in Munich, Germany (1888-1894) Cantonal school in Aarau, Switzerland (1895-1896) Swiss Federal Institute of Technology in Zurich, Switzerland (1896-1900) Ph.D. from Zurich University, Switzerland (1905)\n",
            "\n",
            "\n"
          ]
        }
      ]
    }
  ]
}